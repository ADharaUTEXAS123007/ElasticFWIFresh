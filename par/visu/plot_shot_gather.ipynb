{
 "cells": [
  {
   "cell_type": "markdown",
   "metadata": {},
   "source": [
    "**Plot shot gather of modelling results**<br />\n",
    "Daniel Köhn<br />\n",
    "Kiel, 09.07.2017"
   ]
  },
  {
   "cell_type": "markdown",
   "metadata": {},
   "source": [
    "**Import necessary packages**"
   ]
  },
  {
   "cell_type": "code",
   "execution_count": null,
   "metadata": {
    "collapsed": true
   },
   "outputs": [],
   "source": [
    "import obspy\n",
    "from obspy import read\n",
    "import numpy as np\n",
    "import matplotlib as plt\n",
    "import matplotlib.pyplot as plt\n",
    "from matplotlib.pyplot import gca\n",
    "import matplotlib as mpl\n",
    "from pylab import rcParams\n",
    "from matplotlib import rc\n",
    "#%matplotlib notebook"
   ]
  },
  {
   "cell_type": "markdown",
   "metadata": {},
   "source": [
    "**Define parameters for data visualization**"
   ]
  },
  {
   "cell_type": "code",
   "execution_count": null,
   "metadata": {
    "collapsed": true
   },
   "outputs": [],
   "source": [
    "clip = 2e-7     # data clip\n",
    "shotno = 1      # shot number"
   ]
  },
  {
   "cell_type": "markdown",
   "metadata": {},
   "source": [
    "**Font properties**"
   ]
  },
  {
   "cell_type": "code",
   "execution_count": null,
   "metadata": {
    "collapsed": true
   },
   "outputs": [],
   "source": [
    "FSize = 20\n",
    "font = {'color':  'black',\n",
    "        'weight': 'bold',\n",
    "        'size': FSize}\n",
    "mpl.rc('xtick', labelsize=FSize) \n",
    "mpl.rc('ytick', labelsize=FSize) \n",
    "rcParams['figure.figsize'] = 10, 10"
   ]
  },
  {
   "cell_type": "markdown",
   "metadata": {},
   "source": [
    "**Read modelled Marmousi-2 data**"
   ]
  },
  {
   "cell_type": "code",
   "execution_count": null,
   "metadata": {
    "collapsed": true
   },
   "outputs": [],
   "source": [
    "str_shotno = \"%0.*f\" %(0,np.fix(shotno))    # shotnumber2str\n",
    "filename = \"../su/DENISE_MARMOUSI_y.su.shot\" + str_shotno\n",
    "data = read(filename, unpack_trace_headers=True)"
   ]
  },
  {
   "cell_type": "markdown",
   "metadata": {},
   "source": [
    "**Apply lowpass Butterworth filter**"
   ]
  },
  {
   "cell_type": "code",
   "execution_count": null,
   "metadata": {
    "collapsed": true
   },
   "outputs": [],
   "source": [
    "#data.filter('lowpass', freq=2.0, corners=6, zerophase=False)"
   ]
  },
  {
   "cell_type": "markdown",
   "metadata": {},
   "source": [
    "**Extract traces and header information from data stream**"
   ]
  },
  {
   "cell_type": "code",
   "execution_count": null,
   "metadata": {
    "collapsed": true
   },
   "outputs": [],
   "source": [
    "# number of traces, time samples and sample interval\n",
    "ntr = len(data.traces)\n",
    "ns = len(data.traces[0].data)                                   \n",
    "dt = data.traces[0].stats.delta                                 \n",
    "\n",
    "# x- and y-source coordinates from trace header\n",
    "xsrc = data.traces[0].stats.su.trace_header.source_coordinate_x\n",
    "ysrc = data.traces[0].stats.su.trace_header.source_coordinate_y\n",
    "\n",
    "# allocate memory for traces and receiver positions\n",
    "traces = np.zeros((ns, ntr))\n",
    "xrec = np.zeros((1, ntr))\n",
    "yrec = np.zeros((1, ntr))\n",
    "\n",
    "i=0\n",
    "for tr in data.traces:\n",
    "    \n",
    "    # extract traces\n",
    "    traces[:, i] = tr.data[:]\n",
    "    \n",
    "    # x- and y-receiver coordinates from trace header\n",
    "    xrec[0,i] = data.traces[i].stats.su.trace_header.group_coordinate_x\n",
    "    yrec[0,i] = data.traces[i].stats.su.trace_header.group_coordinate_y\n",
    "    \n",
    "    i += 1\n",
    "\n",
    "# flip traces\n",
    "traces = np.flipud(traces)\n",
    "    \n",
    "# offset [km]    \n",
    "offset = (xrec - xsrc) / 1e6"
   ]
  },
  {
   "cell_type": "markdown",
   "metadata": {},
   "source": [
    "**Plot shot gather**"
   ]
  },
  {
   "cell_type": "code",
   "execution_count": null,
   "metadata": {},
   "outputs": [],
   "source": [
    "extent = [np.min(offset), np.max(offset), dt, dt*ns]\n",
    "\n",
    "fig = plt.figure\n",
    "\n",
    "plt.rc('font',**{'family':'sans-serif','sans-serif':['Helvetica']})\n",
    "plt.rc('text', usetex=True)\n",
    "\n",
    "im = plt.imshow(traces, cmap=plt.cm.seismic, interpolation='bicubic',\n",
    "                extent=extent, vmin=-clip, vmax=clip)\n",
    "\n",
    "a = gca()\n",
    "a.set_xticklabels(a.get_xticks(), font)\n",
    "a.set_yticklabels(a.get_yticks(), font)\n",
    "#plt.axis('scaled')\n",
    "title_name = \"Marmousi-2 (shot no.\" + str_shotno + \")\"\n",
    "plt.title(title_name, fontdict=font)\n",
    "plt.ylabel('Time [s]', fontdict=font)\n",
    "plt.xlabel('Offset [km]', fontdict=font)\n",
    "plt.gca().invert_yaxis()\n",
    "\n",
    "plt.tight_layout()\n",
    "output_file = \"Marmousi_shot_\" + str_shotno + \".pdf\"\n",
    "plt.savefig(output_file, bbox_inches='tight', format='pdf')\n",
    "plt.show()"
   ]
  },
  {
   "cell_type": "code",
   "execution_count": null,
   "metadata": {
    "collapsed": true
   },
   "outputs": [],
   "source": []
  }
 ],
 "metadata": {
  "kernelspec": {
   "display_name": "Python 2",
   "language": "python",
   "name": "python2"
  },
  "language_info": {
   "codemirror_mode": {
    "name": "ipython",
    "version": 2
   },
   "file_extension": ".py",
   "mimetype": "text/x-python",
   "name": "python",
   "nbconvert_exporter": "python",
   "pygments_lexer": "ipython2",
   "version": "2.7.13"
  }
 },
 "nbformat": 4,
 "nbformat_minor": 2
}
